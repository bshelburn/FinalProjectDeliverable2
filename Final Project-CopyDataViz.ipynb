{
 "cells": [
  {
   "cell_type": "code",
   "execution_count": 1,
   "id": "8091e849",
   "metadata": {},
   "outputs": [],
   "source": [
    "import pandas as pd\n",
    "import os\n",
    "from sodapy import Socrata\n",
    "from sqlalchemy import create_engine\n",
    "import psycopg2 as pg\n",
    "import pandas.io.sql as psql\n",
    "\n",
    "\n",
    "# # get connected to the database\n",
    "# connection = pg.connect(\"dbname=postgres user=root password=Murphy8034?\")\n",
    " \n",
    "# dataframe = psql.frame_query(\"SELECT * FROM data_df\", connection)\n"
   ]
  },
  {
   "cell_type": "code",
   "execution_count": 2,
   "id": "3c9b5395",
   "metadata": {
    "scrolled": false
   },
   "outputs": [
    {
     "name": "stderr",
     "output_type": "stream",
     "text": [
      "/Users/benjaminshelburn/opt/anaconda3/lib/python3.8/site-packages/IPython/core/interactiveshell.py:3165: DtypeWarning: Columns (3) have mixed types.Specify dtype option on import or set low_memory=False.\n",
      "  has_raised = await self.run_ast_nodes(code_ast.body, cell_name,\n"
     ]
    }
   ],
   "source": [
    "# 1. Create a DataFrame Covid data(full csv). \n",
    "data_df = pd.read_csv('/Users/benjaminshelburn/Desktop/Classwork/Final Project/COVID-19_Case_Surveillance_Public_Use_Data_with_Geography.csv')\n",
    "\n",
    "# 2. Create a DF from small API sample - limit 250K?\n",
    "# client = Socrata(\"data.cdc.gov\", None)\n",
    "# data = client.get(\"n8mc-b4w4\", limit= 500000)\n",
    "# data_df = pd.DataFrame.from_records(data)\n",
    "# data_df\n",
    "\n",
    "# # 3. https://stackoverflow.com/questions/66345379/not-getting-full-data-from-api-to-jupyter-notebook\n",
    "# r = requests.get(\"https://pokeapi.co/api/v2/pokemon/\")\n",
    "# x = r.json()\n",
    "\n",
    "# data = []\n",
    "# data.append(x['results'])\n",
    "\n",
    "# # Loop until `next` is `None`\n",
    "# while x.get('next'):\n",
    "#     r = requests.get(\"https://pokeapi.co/api/v2/pokemon/\")\n",
    "#     x = r.json()\n",
    "#     data.append(x['results'])\n",
    "\n",
    "# df = pd.DataFrame(data)"
   ]
  },
  {
   "cell_type": "code",
   "execution_count": 3,
   "id": "a774f4eb",
   "metadata": {},
   "outputs": [],
   "source": [
    "# Columns to drop\n",
    "data_df = data_df.drop(['state_fips_code'], axis=1)\n",
    "data_df = data_df.drop(['county_fips_code'], axis=1)\n",
    "data_df = data_df.drop(['case_positive_specimen_interval'], axis=1)\n",
    "data_df = data_df.drop(['current_status'], axis=1)\n",
    "data_df = data_df.drop(['case_onset_interval'], axis=1)\n",
    "data_df = data_df.drop(['ethnicity'], axis=1)\n",
    "data_df = data_df.drop(['process'], axis=1)\n",
    "data_df = data_df.drop(['res_county'], axis=1)\n",
    "\n",
    "\n",
    "# Print df\n",
    "# data_df"
   ]
  },
  {
   "cell_type": "code",
   "execution_count": 4,
   "id": "34de7425",
   "metadata": {},
   "outputs": [],
   "source": [
    "# Change and format column names\n",
    "data_df.rename(columns={'case_month':'Case Month', 'res_state':'Resident State', 'res_county': 'Resident County',\n",
    "                       'age_group':'Age Group', 'sex':'Sex', 'race':'Race', 'ethnicity': 'Ethnicity',\n",
    "                       'process':'Process', 'exposure_yn': 'Exposure', 'symptom_status': 'Symptom Status',\n",
    "                       'hosp_yn':'Hospitalization', 'icu_yn': 'ICU', 'death_yn':'Death',\n",
    "                        'underlying_conditions_yn': 'Underlying Health Conditions'},inplace=True )"
   ]
  },
  {
   "cell_type": "code",
   "execution_count": 5,
   "id": "860dd71f",
   "metadata": {},
   "outputs": [],
   "source": [
    "data_df = data_df.sample(n=1000000)\n"
   ]
  },
  {
   "cell_type": "code",
   "execution_count": 8,
   "id": "42c05d86",
   "metadata": {},
   "outputs": [],
   "source": [
    "data_df.to_csv(r'/Users/benjaminshelburn/Desktop/Classwork/Final Project/finaldata/DataVisCleanData.csv', index = True)\n"
   ]
  },
  {
   "cell_type": "code",
   "execution_count": 9,
   "id": "d678a0e0",
   "metadata": {},
   "outputs": [
    {
     "data": {
      "text/plain": [
       "Case Month                       999999\n",
       "Resident State                   999977\n",
       "Age Group                        989133\n",
       "Sex                              966710\n",
       "Race                             824241\n",
       "Exposure                        1000000\n",
       "Symptom Status                  1000000\n",
       "Hospitalization                 1000000\n",
       "ICU                             1000000\n",
       "Death                            953320\n",
       "Underlying Health Conditions      61502\n",
       "dtype: int64"
      ]
     },
     "execution_count": 9,
     "metadata": {},
     "output_type": "execute_result"
    }
   ],
   "source": [
    "data_df.count()"
   ]
  },
  {
   "cell_type": "code",
   "execution_count": null,
   "id": "aca758fc",
   "metadata": {},
   "outputs": [],
   "source": []
  }
 ],
 "metadata": {
  "kernelspec": {
   "display_name": "PythonData",
   "language": "python",
   "name": "pythondata"
  },
  "language_info": {
   "codemirror_mode": {
    "name": "ipython",
    "version": 3
   },
   "file_extension": ".py",
   "mimetype": "text/x-python",
   "name": "python",
   "nbconvert_exporter": "python",
   "pygments_lexer": "ipython3",
   "version": "3.8.8"
  }
 },
 "nbformat": 4,
 "nbformat_minor": 5
}
